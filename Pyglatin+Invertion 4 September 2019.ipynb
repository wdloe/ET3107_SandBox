{
 "cells": [
  {
   "cell_type": "code",
   "execution_count": 1,
   "metadata": {},
   "outputs": [
    {
     "name": "stdin",
     "output_type": "stream",
     "text": [
      "Enter a word: haha\n"
     ]
    },
    {
     "name": "stdout",
     "output_type": "stream",
     "text": [
      "ahahay\n"
     ]
    }
   ],
   "source": [
    "#Pyglatin Generate\n",
    "pyg = 'ay'\n",
    "original = input('Enter a word:')\n",
    "if len(original) > 0 and original.isalpha():\n",
    "    word = original.lower() \n",
    "    first = word[0]\n",
    "    new_word = word + first + pyg\n",
    "    new_word = new_word[1:len(new_word)] \n",
    "    print(new_word)\n",
    "else:\n",
    "    print ('empty')"
   ]
  },
  {
   "cell_type": "code",
   "execution_count": 2,
   "metadata": {},
   "outputs": [
    {
     "name": "stdin",
     "output_type": "stream",
     "text": [
      "Masukkan kata: ahahay\n"
     ]
    },
    {
     "name": "stdout",
     "output_type": "stream",
     "text": [
      "haha\n"
     ]
    }
   ],
   "source": [
    "#Pyglatin Invertion\n",
    "latin = input('Masukkan kata:')\n",
    "if len(latin)>0 and latin.isalpha():\n",
    "    if latin[len(latin)-1] == 'y' and latin[len(latin)-2] == 'a':\n",
    "        word = latin[0:len(latin)-3]\n",
    "        huruf_depan = latin[len(latin)-3]\n",
    "        original = huruf_depan + word\n",
    "        print(original)\n",
    "    else:\n",
    "        print('Salah!')\n",
    "else:\n",
    "    print('empty')"
   ]
  },
  {
   "cell_type": "code",
   "execution_count": null,
   "metadata": {},
   "outputs": [],
   "source": []
  },
  {
   "cell_type": "code",
   "execution_count": null,
   "metadata": {},
   "outputs": [],
   "source": []
  }
 ],
 "metadata": {
  "kernelspec": {
   "display_name": "Python 3",
   "language": "python",
   "name": "python3"
  },
  "language_info": {
   "codemirror_mode": {
    "name": "ipython",
    "version": 3
   },
   "file_extension": ".py",
   "mimetype": "text/x-python",
   "name": "python",
   "nbconvert_exporter": "python",
   "pygments_lexer": "ipython3",
   "version": "3.7.3"
  }
 },
 "nbformat": 4,
 "nbformat_minor": 2
}
