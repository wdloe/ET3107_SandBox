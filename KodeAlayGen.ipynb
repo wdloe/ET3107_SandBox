{
 "cells": [
  {
   "cell_type": "code",
   "execution_count": 1,
   "metadata": {},
   "outputs": [
    {
     "name": "stdout",
     "output_type": "stream",
     "text": [
      "Selamat Datang di AlayCode Generator by William-018 & Farras-007\n",
      "Silahkan Ketikkan Kata yang Dimau\n",
      "\n"
     ]
    },
    {
     "name": "stdin",
     "output_type": "stream",
     "text": [
      "Masukkan kata :  pemrograman itu seru\n"
     ]
    }
   ],
   "source": [
    "#INISIASI PROGRAM\n",
    "print(\"Selamat Datang di AlayCode Generator by William-018 & Farras-007\")\n",
    "print(\"Silahkan Ketikkan Kata yang Dimau\")\n",
    "print(\"\")\n",
    "asli = input(\"Masukkan kata : \")"
   ]
  },
  {
   "cell_type": "code",
   "execution_count": 2,
   "metadata": {},
   "outputs": [],
   "source": [
    "#PENGOLAHAN STRING\n",
    "kata = asli.lower() #Menjadikan seluruh alfabet menjadi lowercase"
   ]
  },
  {
   "cell_type": "code",
   "execution_count": 3,
   "metadata": {},
   "outputs": [
    {
     "name": "stdout",
     "output_type": "stream",
     "text": [
      "p3mr06r@m@n 1tu s3ru\n"
     ]
    }
   ],
   "source": [
    "#PENGOLAHAN STRING\n",
    "import string #import library string\n",
    "\n",
    "kamus = str.maketrans(\"aieojbg\",\"@130786\") #menggunakan fungsi bawaan library string\n",
    "print(kata.translate(kamus)) #print hasil bahasa alay"
   ]
  },
  {
   "cell_type": "code",
   "execution_count": null,
   "metadata": {},
   "outputs": [],
   "source": []
  },
  {
   "cell_type": "code",
   "execution_count": null,
   "metadata": {},
   "outputs": [],
   "source": []
  },
  {
   "cell_type": "code",
   "execution_count": null,
   "metadata": {},
   "outputs": [],
   "source": []
  },
  {
   "cell_type": "code",
   "execution_count": null,
   "metadata": {},
   "outputs": [],
   "source": []
  }
 ],
 "metadata": {
  "kernelspec": {
   "display_name": "Python 3",
   "language": "python",
   "name": "python3"
  },
  "language_info": {
   "codemirror_mode": {
    "name": "ipython",
    "version": 3
   },
   "file_extension": ".py",
   "mimetype": "text/x-python",
   "name": "python",
   "nbconvert_exporter": "python",
   "pygments_lexer": "ipython3",
   "version": "3.7.3"
  }
 },
 "nbformat": 4,
 "nbformat_minor": 2
}
